{
 "cells": [
  {
   "cell_type": "code",
   "execution_count": 1,
   "metadata": {},
   "outputs": [],
   "source": [
    "import os"
   ]
  },
  {
   "cell_type": "code",
   "execution_count": 2,
   "metadata": {},
   "outputs": [
    {
     "data": {
      "text/plain": [
       "'d:\\\\Kidney_tumor_detection\\\\research'"
      ]
     },
     "execution_count": 2,
     "metadata": {},
     "output_type": "execute_result"
    }
   ],
   "source": [
    "%pwd"
   ]
  },
  {
   "cell_type": "code",
   "execution_count": 3,
   "metadata": {},
   "outputs": [],
   "source": [
    "os.chdir('../')"
   ]
  },
  {
   "cell_type": "code",
   "execution_count": 4,
   "metadata": {},
   "outputs": [
    {
     "data": {
      "text/plain": [
       "'d:\\\\Kidney_tumor_detection'"
      ]
     },
     "execution_count": 4,
     "metadata": {},
     "output_type": "execute_result"
    }
   ],
   "source": [
    "%pwd"
   ]
  },
  {
   "cell_type": "code",
   "execution_count": 5,
   "metadata": {},
   "outputs": [],
   "source": [
    "from dataclasses import dataclass\n",
    "from pathlib import Path\n",
    "\n",
    "@dataclass(frozen=True)\n",
    "class DataIngestionConfig:\n",
    "    root_dir: Path\n",
    "    source_url: str\n",
    "    local_data_file: Path\n",
    "    unzip_dir: Path\n",
    "    "
   ]
  },
  {
   "cell_type": "code",
   "execution_count": 6,
   "metadata": {},
   "outputs": [
    {
     "data": {
      "text/plain": [
       "'d:\\\\Kidney_tumor_detection'"
      ]
     },
     "execution_count": 6,
     "metadata": {},
     "output_type": "execute_result"
    }
   ],
   "source": [
    "%pwd"
   ]
  },
  {
   "cell_type": "code",
   "execution_count": 7,
   "metadata": {},
   "outputs": [],
   "source": [
    "from src.utils import *\n",
    "from src.constants import *"
   ]
  },
  {
   "cell_type": "code",
   "execution_count": 8,
   "metadata": {},
   "outputs": [],
   "source": [
    "class ConfigurationManager:\n",
    "    def __init__(self,config_path=CONFIG_FILE_PATH,params_path=PARAM_FILE_PATH):\n",
    "        self.config=read_yaml(config_path)\n",
    "        self.params=read_yaml(params_path)\n",
    "\n",
    "        create_directories([self.config.artifacts_root])\n",
    "\n",
    "    def get_data_ingestion_config(self):\n",
    "        config=self.config.data_ingestion\n",
    "        create_directories([config.root_dir])\n",
    "        data_ingestion_config=DataIngestionConfig(config.root_dir,config.source_url,config.local_data_file,config.unzip_dir)\n",
    "        return data_ingestion_config"
   ]
  },
  {
   "cell_type": "code",
   "execution_count": 9,
   "metadata": {},
   "outputs": [],
   "source": [
    "import os\n",
    "import gdown\n",
    "import zipfile\n",
    "from src.logger import *\n",
    "from src.exception import *"
   ]
  },
  {
   "cell_type": "code",
   "execution_count": 10,
   "metadata": {},
   "outputs": [],
   "source": [
    "class DataIngestion:\n",
    "    def __init__(self,config):\n",
    "        self.config=config\n",
    "    def download_file(self):\n",
    "        try:\n",
    "            dataset_url=self.config.source_url\n",
    "            zip_file_path=self.config.local_data_file\n",
    "            os.makedirs('artifacts/data_ingestion',exist_ok=True)\n",
    "            logging.info(\"downloading dataset from {url_path} into file {zip_file_path}\")\n",
    "            file_id=dataset_url.split('/')[-2]\n",
    "            prefix_url='https://drive.google.com/uc?/export=download&id='\n",
    "            gdown.download(prefix_url+file_id,zip_file_path)\n",
    "            logging.info(\"dataset downloaded successfully\")\n",
    "        except Exception as e:\n",
    "            logging.info(\"ERROR OCCURED IN DOWNLOADING THE DATASET\")\n",
    "            raise CustomException(e,sys)\n",
    "    def unzip_file(self):\n",
    "        try:\n",
    "            unzip_path=self.config.unzip_dir\n",
    "            os.makedirs(unzip_path,exist_ok=True)\n",
    "            logging.info(\"unzipping the downloaded file\")\n",
    "            with zipfile.ZipFile(self.config.local_data_file, 'r') as zip_ref:\n",
    "                zip_ref.extractall(unzip_path)\n",
    "            logging.info(\"unzipping of file successfull\")\n",
    "        except Exception as e:\n",
    "            logging.info(\"ERROR OCCURED IN UNZIPPING THE FILE\")\n",
    "            raise CustomException(e,sys)\n",
    "            \n"
   ]
  },
  {
   "cell_type": "code",
   "execution_count": 12,
   "metadata": {},
   "outputs": [
    {
     "name": "stderr",
     "output_type": "stream",
     "text": [
      "Downloading...\n",
      "From (uriginal): https://drive.google.com/uc?/export=download&id=1cqB07hFWElf0jMY4GBz84qNogT2CCLNk\n",
      "From (redirected): https://drive.google.com/uc?/export=download&id=1cqB07hFWElf0jMY4GBz84qNogT2CCLNk&confirm=t&uuid=44bf0ef0-1142-4c6b-bbb5-ce044c6daab6\n",
      "To: d:\\Kidney_tumor_detection\\artifacts\\data_ingestion\\data.zip\n",
      "100%|██████████| 57.7M/57.7M [00:23<00:00, 2.49MB/s]\n"
     ]
    }
   ],
   "source": [
    "# pipeline\n",
    "config1=ConfigurationManager(CONFIG_FILE_PATH,PARAM_FILE_PATH)\n",
    "data_ingestion_config=config1.get_data_ingestion_config()\n",
    "data_ingestion=DataIngestion(data_ingestion_config)\n",
    "data_ingestion.download_file()\n",
    "data_ingestion.unzip_file()\n"
   ]
  },
  {
   "cell_type": "code",
   "execution_count": null,
   "metadata": {},
   "outputs": [],
   "source": []
  }
 ],
 "metadata": {
  "kernelspec": {
   "display_name": "Python 3",
   "language": "python",
   "name": "python3"
  },
  "language_info": {
   "codemirror_mode": {
    "name": "ipython",
    "version": 3
   },
   "file_extension": ".py",
   "mimetype": "text/x-python",
   "name": "python",
   "nbconvert_exporter": "python",
   "pygments_lexer": "ipython3",
   "version": "3.8.0"
  }
 },
 "nbformat": 4,
 "nbformat_minor": 2
}
